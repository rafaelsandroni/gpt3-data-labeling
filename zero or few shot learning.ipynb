{
 "cells": [
  {
   "cell_type": "markdown",
   "id": "ae24f2fa",
   "metadata": {},
   "source": [
    "## Zero or few shot learning to data labeling"
   ]
  },
  {
   "cell_type": "code",
   "execution_count": 1,
   "id": "50d72dfa",
   "metadata": {},
   "outputs": [
    {
     "name": "stdout",
     "output_type": "stream",
     "text": [
      "Collecting openai\n",
      "  Downloading openai-0.10.4.tar.gz (157 kB)\n",
      "\u001b[K     |███████████████████████████████▎| 153 kB 6.5 MB/s eta 0:00:01     |████████████████████████████████| 157 kB 6.5 MB/s \n",
      "\u001b[?25hRequirement already satisfied: requests>=2.20 in /Users/bot/.pyenv/versions/3.7.4/lib/python3.7/site-packages (from openai) (2.25.1)\n",
      "Requirement already satisfied: tqdm in /Users/bot/.pyenv/versions/3.7.4/lib/python3.7/site-packages (from openai) (4.49.0)\n",
      "Requirement already satisfied: pandas>=1.2.3 in /Users/bot/.pyenv/versions/3.7.4/lib/python3.7/site-packages (from openai) (1.2.4)\n",
      "Collecting pandas-stubs>=1.1.0.11\n",
      "  Downloading pandas_stubs-1.2.0.17-py3-none-any.whl (158 kB)\n",
      "\u001b[K     |████████████████████████████████| 158 kB 33.7 MB/s eta 0:00:01\n",
      "\u001b[?25hCollecting openpyxl>=3.0.7\n",
      "  Downloading openpyxl-3.0.9-py2.py3-none-any.whl (242 kB)\n",
      "\u001b[K     |████████████████████████████████| 242 kB 26.4 MB/s eta 0:00:01     |███████████████████████████████▏| 235 kB 26.4 MB/s eta 0:00:01\n",
      "\u001b[?25hCollecting et-xmlfile\n",
      "  Downloading et_xmlfile-1.1.0-py3-none-any.whl (4.7 kB)\n",
      "Requirement already satisfied: python-dateutil>=2.7.3 in /Users/bot/.pyenv/versions/3.7.4/lib/python3.7/site-packages (from pandas>=1.2.3->openai) (2.8.1)\n",
      "Requirement already satisfied: numpy>=1.16.5 in /Users/bot/.pyenv/versions/3.7.4/lib/python3.7/site-packages (from pandas>=1.2.3->openai) (1.20.3)\n",
      "Requirement already satisfied: pytz>=2017.3 in /Users/bot/.pyenv/versions/3.7.4/lib/python3.7/site-packages (from pandas>=1.2.3->openai) (2021.1)\n",
      "Requirement already satisfied: typing-extensions>=3.7.4.3 in /Users/bot/.pyenv/versions/3.7.4/lib/python3.7/site-packages (from pandas-stubs>=1.1.0.11->openai) (3.7.4.3)\n",
      "Requirement already satisfied: six>=1.5 in /Users/bot/.pyenv/versions/3.7.4/lib/python3.7/site-packages (from python-dateutil>=2.7.3->pandas>=1.2.3->openai) (1.15.0)\n",
      "Requirement already satisfied: chardet<5,>=3.0.2 in /Users/bot/.pyenv/versions/3.7.4/lib/python3.7/site-packages (from requests>=2.20->openai) (4.0.0)\n",
      "Requirement already satisfied: certifi>=2017.4.17 in /Users/bot/.pyenv/versions/3.7.4/lib/python3.7/site-packages (from requests>=2.20->openai) (2020.12.5)\n",
      "Requirement already satisfied: idna<3,>=2.5 in /Users/bot/.pyenv/versions/3.7.4/lib/python3.7/site-packages (from requests>=2.20->openai) (2.10)\n",
      "Requirement already satisfied: urllib3<1.27,>=1.21.1 in /Users/bot/.local/lib/python3.7/site-packages (from requests>=2.20->openai) (1.25.11)\n",
      "Building wheels for collected packages: openai\n",
      "  Building wheel for openai (setup.py) ... \u001b[?25ldone\n",
      "\u001b[?25h  Created wheel for openai: filename=openai-0.10.4-py3-none-any.whl size=169207 sha256=f920a923f217c50aeec3f99670d0cefaf366c0b035293fa65970de7faa72c218\n",
      "  Stored in directory: /Users/bot/Library/Caches/pip/wheels/8b/93/f8/5e75b386c7b042895640bfff87251b80c8986f8eca8f5a41d2\n",
      "Successfully built openai\n",
      "Installing collected packages: et-xmlfile, pandas-stubs, openpyxl, openai\n",
      "Successfully installed et-xmlfile-1.1.0 openai-0.10.4 openpyxl-3.0.9 pandas-stubs-1.2.0.17\n",
      "\u001b[33mWARNING: You are using pip version 21.1.3; however, version 21.2.4 is available.\n",
      "You should consider upgrading via the '/Users/bot/.pyenv/versions/3.7.4/bin/python3 -m pip install --upgrade pip' command.\u001b[0m\n"
     ]
    }
   ],
   "source": [
    "!pip install openai"
   ]
  },
  {
   "cell_type": "code",
   "execution_count": 63,
   "id": "9117f2ca-b557-480d-9a80-5c6564b9a735",
   "metadata": {},
   "outputs": [
    {
     "name": "stdout",
     "output_type": "stream",
     "text": [
      "--2021-09-27 21:14:34--  https://raw.githubusercontent.com/b2wdigital/b2w-reviews01/main/B2W-Reviews01.csv\n",
      "Resolving raw.githubusercontent.com (raw.githubusercontent.com)... 185.199.108.133, 185.199.110.133, 185.199.111.133, ...\n",
      "Connecting to raw.githubusercontent.com (raw.githubusercontent.com)|185.199.108.133|:443... connected.\n",
      "HTTP request sent, awaiting response... 200 OK\n",
      "Length: 49453175 (47M) [text/plain]\n",
      "Saving to: ‘B2W-Reviews01.csv.1’\n",
      "\n",
      "B2W-Reviews01.csv.1 100%[===================>]  47,16M  33,5MB/s    in 1,4s    \n",
      "\n",
      "2021-09-27 21:14:38 (33,5 MB/s) - ‘B2W-Reviews01.csv.1’ saved [49453175/49453175]\n",
      "\n"
     ]
    }
   ],
   "source": [
    "!wget https://raw.githubusercontent.com/b2wdigital/b2w-reviews01/main/B2W-Reviews01.csv"
   ]
  },
  {
   "cell_type": "code",
   "execution_count": 64,
   "id": "f6175d24-95a6-435e-a81b-f9272b5091f5",
   "metadata": {},
   "outputs": [
    {
     "name": "stdout",
     "output_type": "stream",
     "text": [
      "total 101752\n",
      "drwxr-xr-x   6 bot  staff   192B Sep 27 21:14 \u001b[1m\u001b[36m.\u001b[m\u001b[m\n",
      "drwxr-xr-x  57 bot  staff   1.8K Sep 20 21:46 \u001b[1m\u001b[36m..\u001b[m\u001b[m\n",
      "drwxr-xr-x   4 bot  staff   128B Sep 27 21:13 \u001b[1m\u001b[36m.ipynb_checkpoints\u001b[m\u001b[m\n",
      "-rw-r--r--   1 bot  staff   2.2M Sep 27 21:13 B2W-Reviews01.csv\n",
      "-rw-r--r--   1 bot  staff    47M Sep 27 21:14 B2W-Reviews01.csv.1\n",
      "-rw-r--r--   1 bot  staff    17K Sep 27 21:13 zero or few shot learning.ipynb\n"
     ]
    }
   ],
   "source": [
    "!ls -lah"
   ]
  },
  {
   "cell_type": "code",
   "execution_count": 13,
   "id": "b9e9cb17-ccf8-4b0b-89aa-5b4ce8397a1c",
   "metadata": {},
   "outputs": [
    {
     "data": {
      "text/plain": [
       "<OpenAIObject list at 0x10c67b590> JSON: {\n",
       "  \"data\": [\n",
       "    {\n",
       "      \"created\": null,\n",
       "      \"id\": \"ada\",\n",
       "      \"max_replicas\": null,\n",
       "      \"object\": \"engine\",\n",
       "      \"owner\": \"openai\",\n",
       "      \"permissions\": null,\n",
       "      \"ready\": true,\n",
       "      \"ready_replicas\": null,\n",
       "      \"replicas\": null\n",
       "    },\n",
       "    {\n",
       "      \"created\": null,\n",
       "      \"id\": \"babbage\",\n",
       "      \"max_replicas\": null,\n",
       "      \"object\": \"engine\",\n",
       "      \"owner\": \"openai\",\n",
       "      \"permissions\": null,\n",
       "      \"ready\": true,\n",
       "      \"ready_replicas\": null,\n",
       "      \"replicas\": null\n",
       "    },\n",
       "    {\n",
       "      \"created\": null,\n",
       "      \"id\": \"curie\",\n",
       "      \"max_replicas\": null,\n",
       "      \"object\": \"engine\",\n",
       "      \"owner\": \"openai\",\n",
       "      \"permissions\": null,\n",
       "      \"ready\": true,\n",
       "      \"ready_replicas\": null,\n",
       "      \"replicas\": null\n",
       "    },\n",
       "    {\n",
       "      \"created\": null,\n",
       "      \"id\": \"curie-instruct-beta\",\n",
       "      \"max_replicas\": null,\n",
       "      \"object\": \"engine\",\n",
       "      \"owner\": \"openai\",\n",
       "      \"permissions\": null,\n",
       "      \"ready\": true,\n",
       "      \"ready_replicas\": null,\n",
       "      \"replicas\": null\n",
       "    },\n",
       "    {\n",
       "      \"created\": null,\n",
       "      \"id\": \"davinci\",\n",
       "      \"max_replicas\": null,\n",
       "      \"object\": \"engine\",\n",
       "      \"owner\": \"openai\",\n",
       "      \"permissions\": null,\n",
       "      \"ready\": true,\n",
       "      \"ready_replicas\": null,\n",
       "      \"replicas\": null\n",
       "    },\n",
       "    {\n",
       "      \"created\": null,\n",
       "      \"id\": \"davinci-instruct-beta\",\n",
       "      \"max_replicas\": null,\n",
       "      \"object\": \"engine\",\n",
       "      \"owner\": \"openai\",\n",
       "      \"permissions\": null,\n",
       "      \"ready\": true,\n",
       "      \"ready_replicas\": null,\n",
       "      \"replicas\": null\n",
       "    }\n",
       "  ],\n",
       "  \"object\": \"list\"\n",
       "}"
      ]
     },
     "execution_count": 13,
     "metadata": {},
     "output_type": "execute_result"
    }
   ],
   "source": [
    "import os\n",
    "import openai\n",
    "openai.organization = os.getenv(\"OPENAI_ORG\")\n",
    "openai.api_key = os.getenv(\"OPENAI_API_KEY\")\n",
    "openai.Engine.list()"
   ]
  },
  {
   "cell_type": "code",
   "execution_count": 50,
   "id": "e1ea3549-cd39-43d0-9f94-2c808ea87add",
   "metadata": {},
   "outputs": [],
   "source": [
    "prompt = \"\"\"\n",
    "1. gostei muito do jogo - positivo\n",
    "2. esse prato tinha um gosto ruim - negativo\n",
    "3. contemplei a natureza, muito bom! - \n",
    "\"\"\"\n",
    "\n",
    "parameters = {\n",
    "  \"prompt\": prompt,\n",
    "  \"max_tokens\": 100,\n",
    "  \"temperature\": 0.85,\n",
    "  \"top_p\": 1,\n",
    "  \"n\": 1,\n",
    "  \"stream\": False,\n",
    "  \"logprobs\": None,\n",
    "  \"frequency_penalty\": 0,\n",
    "  \"stop\": \"\"\n",
    "}\n",
    "\n",
    "\n",
    "response = openai.Completion.create(\n",
    "  engine=\"ada\",\n",
    "  **parameters\n",
    ")\n",
    "\n",
    "response.choices[0].text"
   ]
  },
  {
   "cell_type": "code",
   "execution_count": 53,
   "id": "c75371ef-04eb-463f-b979-d3b2222a0cf1",
   "metadata": {},
   "outputs": [
    {
     "data": {
      "text/plain": [
       "\"4. 'gostei muito' - positivo\\n5. olou muito por vinte minutos - negativo\\n6. eu já fui 'somente ouvi' - negativo\\n7. dou 'adversadores' - positivo\\n8. acho que estou 'ser muito sinistro' - positivo\\n9. passei 'completamente' - neg\""
      ]
     },
     "execution_count": 53,
     "metadata": {},
     "output_type": "execute_result"
    }
   ],
   "source": [
    "response.choices[0].text\n",
    "# response"
   ]
  },
  {
   "cell_type": "code",
   "execution_count": 54,
   "id": "3dab0838-bec9-49ec-8bcb-01fa57358d47",
   "metadata": {},
   "outputs": [],
   "source": [
    "import pandas as pd"
   ]
  },
  {
   "cell_type": "code",
   "execution_count": 161,
   "id": "df13471d-0bd5-4e1d-b74e-ac5352b9ae7a",
   "metadata": {},
   "outputs": [],
   "source": [
    "df = pd.read_csv(\"./B2W-Reviews01.csv\")\n",
    "\n",
    "df[\"sentiment\"] = df[\"recommend_to_a_friend\"].apply(lambda x: \"positivo\" if str(x).lower() == \"yes\" else \"negativo\")"
   ]
  },
  {
   "cell_type": "code",
   "execution_count": 166,
   "id": "99aacfb9-ab76-477c-9e65-efa96cdc3e5d",
   "metadata": {},
   "outputs": [],
   "source": [
    "cols = [\"product_name\",\"site_category_lv1\", \"review_title\", \"review_text\", \"recommend_to_a_friend\", \"sentiment\"]"
   ]
  },
  {
   "cell_type": "code",
   "execution_count": 162,
   "id": "e7e5b866-24e1-4d84-8067-2f7d331c91dd",
   "metadata": {},
   "outputs": [
    {
     "data": {
      "text/plain": [
       "sentiment  recommend_to_a_friend\n",
       "positivo   Yes                      96368\n",
       "negativo   No                       35987\n",
       "dtype: int64"
      ]
     },
     "execution_count": 162,
     "metadata": {},
     "output_type": "execute_result"
    }
   ],
   "source": [
    "df[[\"sentiment\",\"recommend_to_a_friend\"]].value_counts()"
   ]
  },
  {
   "cell_type": "code",
   "execution_count": 165,
   "id": "c416036a-5839-4233-8f1a-21b47e531d90",
   "metadata": {},
   "outputs": [
    {
     "data": {
      "text/html": [
       "<div>\n",
       "<style scoped>\n",
       "    .dataframe tbody tr th:only-of-type {\n",
       "        vertical-align: middle;\n",
       "    }\n",
       "\n",
       "    .dataframe tbody tr th {\n",
       "        vertical-align: top;\n",
       "    }\n",
       "\n",
       "    .dataframe thead th {\n",
       "        text-align: right;\n",
       "    }\n",
       "</style>\n",
       "<table border=\"1\" class=\"dataframe\">\n",
       "  <thead>\n",
       "    <tr style=\"text-align: right;\">\n",
       "      <th></th>\n",
       "      <th>sentiment</th>\n",
       "      <th>recommend_to_a_friend</th>\n",
       "    </tr>\n",
       "  </thead>\n",
       "  <tbody>\n",
       "    <tr>\n",
       "      <th>119771</th>\n",
       "      <td>negativo</td>\n",
       "      <td>No</td>\n",
       "    </tr>\n",
       "    <tr>\n",
       "      <th>114242</th>\n",
       "      <td>negativo</td>\n",
       "      <td>No</td>\n",
       "    </tr>\n",
       "    <tr>\n",
       "      <th>72692</th>\n",
       "      <td>positivo</td>\n",
       "      <td>Yes</td>\n",
       "    </tr>\n",
       "    <tr>\n",
       "      <th>97766</th>\n",
       "      <td>positivo</td>\n",
       "      <td>Yes</td>\n",
       "    </tr>\n",
       "    <tr>\n",
       "      <th>34955</th>\n",
       "      <td>positivo</td>\n",
       "      <td>Yes</td>\n",
       "    </tr>\n",
       "  </tbody>\n",
       "</table>\n",
       "</div>"
      ],
      "text/plain": [
       "       sentiment recommend_to_a_friend\n",
       "119771  negativo                    No\n",
       "114242  negativo                    No\n",
       "72692   positivo                   Yes\n",
       "97766   positivo                   Yes\n",
       "34955   positivo                   Yes"
      ]
     },
     "execution_count": 165,
     "metadata": {},
     "output_type": "execute_result"
    }
   ],
   "source": [
    "df[[\"sentiment\",\"recommend_to_a_friend\"]].sample(n=5)"
   ]
  },
  {
   "cell_type": "code",
   "execution_count": 248,
   "id": "7f3ddfa1-7209-4c44-bd8e-5b10dc9201c6",
   "metadata": {},
   "outputs": [
    {
     "data": {
      "text/plain": [
       "(100, 15)"
      ]
     },
     "execution_count": 248,
     "metadata": {},
     "output_type": "execute_result"
    }
   ],
   "source": [
    "random_state = 21\n",
    "no_df = df[df[\"recommend_to_a_friend\"] == \"No\"].sample(n=50, random_state=random_state)\n",
    "yes_df = df[df[\"recommend_to_a_friend\"] == \"Yes\"].sample(n=50, random_state=random_state)\n",
    "\n",
    "label_df = pd.concat([no_df, yes_df])\n",
    "\n",
    "label_df.shape"
   ]
  },
  {
   "cell_type": "code",
   "execution_count": 206,
   "id": "6d0293ab-326f-4bfb-87b5-dbddcbe9f11e",
   "metadata": {},
   "outputs": [
    {
     "data": {
      "text/plain": [
       "'Vale muito pelo preço! Não conheço outros espremedores, talvez esse seja um pouco barulhento! Mas cumpre o que promete.'"
      ]
     },
     "execution_count": 206,
     "metadata": {},
     "output_type": "execute_result"
    }
   ],
   "source": [
    "[1]"
   ]
  },
  {
   "cell_type": "code",
   "execution_count": 245,
   "id": "d00e71ee-47ea-483d-858d-0a510754f5c7",
   "metadata": {},
   "outputs": [],
   "source": [
    "def autolabel(text: str, sample_df: pd.DataFrame):\n",
    "\n",
    "    prompt = generate_prompt(text, sample_df)\n",
    "\n",
    "\n",
    "    #prompt=\"This is a tweet sentiment classifier\\nTweet: \\\"I loved the new Batman movie!\\\"\\nSentiment: Positive\\n###\\nTweet: \\\"I hate it when my phone battery dies\\\"\\nSentiment: Negative\\n###\\nTweet: \\\"My day has been 👍\\\"\\nSentiment: Positive\\n###\\nTweet: \\\"This is the link to the article\\\"\\nSentiment: Neutral\\n###\\nTweet text\\n\\n\\n1. \\\"I loved the new Batman movie!\\\"\\n2. \\\"I hate it when my phone battery dies\\\"\\n3. \\\"My day has been 👍\\\"\\n4. \\\"This is the link to the article\\\"\\n5. \\\"This new music video blew my mind\\\"\\n\\n\\nTweet sentiment ratings:\\n1: Positive\\n2: Negative\\n3: Positive\\n4: Neutral\\n5: Positive\\n\\n\\n###\\nTweet text\\n\\n\\n1. \\\"I can't stand homework\\\"\\n2. \\\"This sucks. I'm bored 😠\\\"\\n3. \\\"I can't wait for Halloween!!!\\\"\\n4. \\\"My cat is adorable ❤️❤️\\\"\\n5. \\\"I hate chocolate\\\"\\n\\n\\nTweet sentiment ratings:\\n1.\",\n",
    "\n",
    "\n",
    "    # parameters = {\n",
    "    #   \"prompt\": prompt,\n",
    "    #   \"max_tokens\": 6,\n",
    "    #   \"temperature\": 0,\n",
    "    #   \"top_p\": 1.0,\n",
    "    # #   \"n\": 1,\n",
    "    # #   \"stream\": False,\n",
    "    #   \"logprobs\": None,\n",
    "    #   \"frequency_penalty\": 0,\n",
    "    #   \"presence_penalty\": 0,\n",
    "    #   \"stop\": [\"###\"]\n",
    "    # }\n",
    "\n",
    "    parameters = dict(\n",
    "      engine=\"davinci\",\n",
    "      prompt=prompt,\n",
    "      temperature=0.3,\n",
    "      max_tokens=10,\n",
    "      top_p=1.0,\n",
    "      frequency_penalty=0.0,\n",
    "      presence_penalty=0.0,\n",
    "      stop=[\"\\n\"]\n",
    "    )\n",
    "\n",
    "\n",
    "    response = openai.Completion.create(\n",
    "      **parameters\n",
    "    )\n",
    "\n",
    "    label_suggestion = response.choices[0].text\n",
    "    return label_suggestion.strip().lower()"
   ]
  },
  {
   "cell_type": "code",
   "execution_count": 246,
   "id": "d4b45c2c-9e44-4425-9ab6-53df046831d0",
   "metadata": {},
   "outputs": [
    {
     "data": {
      "text/plain": [
       "'Text: \"Entrega estava prevista para 7 dias e chegou em mais de 20 depois de muita reclamação. As peças vieram com as pontas amassadas e algumas partes arranhadas, mas passei tanto stress com a entrega que deixei pra lá. A bancada é resistente, porém o parceiro não cumpre com o prometido.\"\\nCategory: negativo\\n\\nText: \"o produto era pra ter chegado a dois dias sendo que o prazo de entrega foi 30 dias , mas nao chegou ainda\"\\nCategory: negativo\\n\\nText: \"Recebi o produto dentro do prazo estabelecido, porém, não vieram peças suficientes para montagem das cadeiras e a mesa estava com um arranhão. Não recomendo o produto, pois o mesmo parece frágil e veio com todos os problemas citados acima.\"\\nCategory: negativo\\n\\nText: \"Esse estojo Ele tem dois dividoria pois na foto só tá para ver um zíper\"\\nCategory: positivo\\n\\nText: \"Vale muito pelo preço! Não conheço outros espremedores, talvez esse seja um pouco barulhento! Mas cumpre o que promete.\"\\nCategory: positivo\\n\\nText: \"Produto de qualidade mediana, faz jus ao preço.  Gostei muito do produto, em lojas físicas costuma ser mais ou menos R$140,00.  Único problema é que o controle não funciona em iOS conforme diz no anúncio.\"\\nCategory: positivo\\n\\nText: \"opa\"\\nCategory:'"
      ]
     },
     "execution_count": 246,
     "metadata": {},
     "output_type": "execute_result"
    }
   ],
   "source": [
    "def generate_prompt(text, sample):\n",
    "\n",
    "    text_examples = sample[\"review_text\"].values\n",
    "    label_examples = sample[\"sentiment\"].values\n",
    "\n",
    "    txt = []\n",
    "    for _text, _label in list(zip(text_examples, label_examples)):\n",
    "        txt.append(f\"\"\"Text: \"{_text}\"\\nCategory: {_label}\\n\"\"\")\n",
    "\n",
    "    txt.append(f\"\"\"Text: \"{text}\"\\nCategory:\"\"\")\n",
    "    s = \"\\n\".join(txt)\n",
    "    return s\n",
    "\n",
    "# prompt = f\"\"\"Text: \"Entrega estava prevista para 7 dias e chegou em mais de 20 depois de muita reclamação\"\n",
    "# Category: Negativo\n",
    "\n",
    "# Text: \"O produto em si é muito ruim, realmente frustrado\"\n",
    "# Category: Negativo\n",
    "\n",
    "# Text: \"Ótimo custo benefício, entrega magnífica, super rápido\"\n",
    "# Category: Positivo\n",
    "\n",
    "# Text: \"Produto boa qualidade, faz jus ao preço. Gostei do produto\"\n",
    "# Category: Positivo\n",
    "\n",
    "# Text: \"{text}\"\n",
    "# Category:\"\"\"\n",
    "\n",
    "generate_prompt(\"opa\", label_df)"
   ]
  },
  {
   "cell_type": "code",
   "execution_count": 239,
   "id": "eb2c47cc-077e-45e8-9df9-00e2b9341112",
   "metadata": {},
   "outputs": [
    {
     "data": {
      "text/plain": [
       "'Text: \"Nao gostei da qualidade do produto, veio faltando parafusos e peças a madeira de qualidade muito ruim e furacão errada.\"\\nCategory: negativo\\n\\nText: \"Produto bom em relação a custo beneficio vem 10 peças e as assadeiras tem um bom tamanho.\"\\nCategory: positivo\\n\\nText: \"Vale muito pelo preço! Não conheço outros espremedores, talvez esse seja um pouco barulhento! Mas cumpre o que promete.\"\\nCategory: positivo\\n\\nText: \"o produto era pra ter chegado a dois dias sendo que o prazo de entrega foi 30 dias , mas nao chegou ainda\"\\nCategory: negativo\\n\\nText: \"o produto era pra ter chegado a dois dias sendo que o prazo de entrega foi 30 dias , mas nao chegou ainda\"\\nCategory:'"
      ]
     },
     "execution_count": 239,
     "metadata": {},
     "output_type": "execute_result"
    }
   ],
   "source": [
    "s"
   ]
  },
  {
   "cell_type": "code",
   "execution_count": 249,
   "id": "e7fe7a28-6565-40cd-8866-bbd836bd36ec",
   "metadata": {},
   "outputs": [],
   "source": [
    "true = []\n",
    "pred = []\n",
    "idx = []\n",
    "\n",
    "sample_df = label_df.sample(n=4, random_state=random_state)\n",
    "for _idx, row in label_df[cols].iterrows():\n",
    "    _pred = autolabel(row.review_text, sample_df)\n",
    "    _true = row.sentiment\n",
    "    #print(row.review_text, _pred, _true)\n",
    "    pred.append(_pred)\n",
    "    true.append(_true)\n",
    "    idx.append(_idx)"
   ]
  },
  {
   "cell_type": "code",
   "execution_count": 194,
   "id": "ada143d0-c7cd-4a06-b060-6f341b764a29",
   "metadata": {},
   "outputs": [
    {
     "data": {
      "text/plain": [
       "102039"
      ]
     },
     "execution_count": 194,
     "metadata": {},
     "output_type": "execute_result"
    }
   ],
   "source": [
    "idx[-1]"
   ]
  },
  {
   "cell_type": "code",
   "execution_count": 201,
   "id": "c121865c-ab89-413c-9bba-60cb0a3c49d3",
   "metadata": {},
   "outputs": [
    {
     "data": {
      "text/plain": [
       "array([['positivo',\n",
       "        'O produto em si é muito bom, realmente de qualidade mas como já reclamado por outros clientes a caixa do relógio veio de papelão, diferente das que os relógios costumam ser entregues (inclusive os próprios relógios da Casio). Comprar para dar como presente realmente deixa muito a desejar, não dá para utilizar a embalagem.']],\n",
       "      dtype=object)"
      ]
     },
     "execution_count": 201,
     "metadata": {},
     "output_type": "execute_result"
    }
   ],
   "source": [
    "label_df[label_df.index == 102039][[\"sentiment\", \"review_text\"]].values"
   ]
  },
  {
   "cell_type": "code",
   "execution_count": 261,
   "id": "1c85a8c3-1ec4-4567-b5f3-f6fce2158889",
   "metadata": {},
   "outputs": [],
   "source": [
    "from sklearn.metrics import accuracy_score, classification_report, roc_auc_score, average_precision_score"
   ]
  },
  {
   "cell_type": "code",
   "execution_count": 250,
   "id": "6a19223f-a59f-402f-90be-f7854ffd1354",
   "metadata": {},
   "outputs": [
    {
     "data": {
      "text/plain": [
       "0.91"
      ]
     },
     "execution_count": 250,
     "metadata": {},
     "output_type": "execute_result"
    }
   ],
   "source": [
    "accuracy_score(true, pred)"
   ]
  },
  {
   "cell_type": "code",
   "execution_count": 257,
   "id": "bd893a93-fe4c-409d-be78-bdbfcc102edf",
   "metadata": {},
   "outputs": [],
   "source": [
    "def convert_to_int(i): return 0 if i == \"negativo\" else 1\n",
    "t = [convert_to_int(i) for i in true]\n",
    "p = [convert_to_int(i) for i in pred]"
   ]
  },
  {
   "cell_type": "code",
   "execution_count": 258,
   "id": "81cad9de-0611-40c2-b86d-167fafbf62ad",
   "metadata": {},
   "outputs": [
    {
     "data": {
      "text/plain": [
       "0.91"
      ]
     },
     "execution_count": 258,
     "metadata": {},
     "output_type": "execute_result"
    }
   ],
   "source": [
    "roc_auc_score(t, p)"
   ]
  },
  {
   "cell_type": "code",
   "execution_count": 262,
   "id": "fca4dc5f-3de6-4041-821e-720313b13ec1",
   "metadata": {},
   "outputs": [
    {
     "data": {
      "text/plain": [
       "0.8698039215686275"
      ]
     },
     "execution_count": 262,
     "metadata": {},
     "output_type": "execute_result"
    }
   ],
   "source": [
    "average_precision_score(t, p)"
   ]
  },
  {
   "cell_type": "code",
   "execution_count": 259,
   "id": "8fe9805e-5a63-4d30-806b-7e2803d78c1f",
   "metadata": {},
   "outputs": [
    {
     "name": "stdout",
     "output_type": "stream",
     "text": [
      "              precision    recall  f1-score   support\n",
      "\n",
      "    negativo       0.92      0.90      0.91        50\n",
      "      neutro       0.00      0.00      0.00         0\n",
      "    positivo       0.92      0.92      0.92        50\n",
      "\n",
      "    accuracy                           0.91       100\n",
      "   macro avg       0.61      0.61      0.61       100\n",
      "weighted avg       0.92      0.91      0.91       100\n",
      "\n"
     ]
    },
    {
     "name": "stderr",
     "output_type": "stream",
     "text": [
      "/Users/bot/.pyenv/versions/3.7.4/lib/python3.7/site-packages/sklearn/metrics/_classification.py:1248: UndefinedMetricWarning: Recall and F-score are ill-defined and being set to 0.0 in labels with no true samples. Use `zero_division` parameter to control this behavior.\n",
      "  _warn_prf(average, modifier, msg_start, len(result))\n",
      "/Users/bot/.pyenv/versions/3.7.4/lib/python3.7/site-packages/sklearn/metrics/_classification.py:1248: UndefinedMetricWarning: Recall and F-score are ill-defined and being set to 0.0 in labels with no true samples. Use `zero_division` parameter to control this behavior.\n",
      "  _warn_prf(average, modifier, msg_start, len(result))\n",
      "/Users/bot/.pyenv/versions/3.7.4/lib/python3.7/site-packages/sklearn/metrics/_classification.py:1248: UndefinedMetricWarning: Recall and F-score are ill-defined and being set to 0.0 in labels with no true samples. Use `zero_division` parameter to control this behavior.\n",
      "  _warn_prf(average, modifier, msg_start, len(result))\n"
     ]
    }
   ],
   "source": [
    "print(\n",
    "    classification_report(true, pred)\n",
    ")"
   ]
  },
  {
   "cell_type": "code",
   "execution_count": 271,
   "id": "ae95d467-ff4f-4f9e-98fb-a4f72560ff62",
   "metadata": {},
   "outputs": [
    {
     "name": "stdout",
     "output_type": "stream",
     "text": [
      "119315 positivo negativo\n",
      "['negativo'\n",
      " 'Pelo preço que eu paguei, está servindo muito bem as minhas necessidades, excelente produto']\n",
      "\n",
      "5326 positivo negativo\n",
      "['negativo' nan]\n",
      "\n",
      "106393 positivo negativo\n",
      "['negativo' nan]\n",
      "\n",
      "90327 neutro negativo\n",
      "['negativo'\n",
      " 'poderia ter mais cores a disposição na situação deste produto']\n",
      "\n",
      "24187 positivo negativo\n",
      "['negativo'\n",
      " 'Recomendo o produto e também o site para a compra, o mesmo foi entregue antes do prazo previsto, muito bom.']\n",
      "\n",
      "102039 negativo positivo\n",
      "['positivo'\n",
      " 'O produto em si é muito bom, realmente de qualidade mas como já reclamado por outros clientes a caixa do relógio veio de papelão, diferente das que os relógios costumam ser entregues (inclusive os próprios relógios da Casio). Comprar para dar como presente realmente deixa muito a desejar, não dá para utilizar a embalagem.']\n",
      "\n",
      "14287 negativo positivo\n",
      "['positivo'\n",
      " 'Bem embalado, porém eu mesma fui tentar montar e as peças não vem todas numeradas dificultando muito!! Da trabalho montar, não é tão simples que você consiga sozinha. Tive que contratar um técnico .']\n",
      "\n",
      "35535 negativo positivo\n",
      "['positivo'\n",
      " 'Meu cooktop veio com o vidro manchado de fábrica, abri uma solicitação de devolução e agora nada.']\n",
      "\n",
      "124323 negativo positivo\n",
      "['positivo'\n",
      " 'Recomendo o produto sim. Só não recomendo a comprar nas lojas americanas pois estou com um outro celular compro com a previsão de entrega para o dia 10 deste mês e até hoje não chegou. Quero cancelar a compra e receber o reembolso mais não consigo falar com o representante da loja muito angustiado com essa situação.']\n",
      "\n"
     ]
    }
   ],
   "source": [
    "for p,t,i in list(zip(pred, true, idx)):\n",
    "    if p != t:\n",
    "        print(i, p, t)\n",
    "        print(\n",
    "            label_df[label_df.index == i][[\"sentiment\", \"review_text\"]].values[0]\n",
    "        )\n",
    "        print()\n",
    "    pass"
   ]
  },
  {
   "cell_type": "code",
   "execution_count": 270,
   "id": "11b046f1-b326-4c69-8c63-54b716bd800a",
   "metadata": {},
   "outputs": [
    {
     "name": "stdout",
     "output_type": "stream",
     "text": [
      "['negativo'\n",
      " 'Pelo preço que eu paguei, está servindo muito bem as minhas necessidades, excelente produto']\n"
     ]
    }
   ],
   "source": []
  },
  {
   "cell_type": "code",
   "execution_count": null,
   "id": "df03741e-d308-4faf-9ffb-cbd7c4f14d99",
   "metadata": {},
   "outputs": [],
   "source": []
  }
 ],
 "metadata": {
  "kernelspec": {
   "display_name": "Python 3",
   "language": "python",
   "name": "python3"
  },
  "language_info": {
   "codemirror_mode": {
    "name": "ipython",
    "version": 3
   },
   "file_extension": ".py",
   "mimetype": "text/x-python",
   "name": "python",
   "nbconvert_exporter": "python",
   "pygments_lexer": "ipython3",
   "version": "3.7.4"
  }
 },
 "nbformat": 4,
 "nbformat_minor": 5
}
